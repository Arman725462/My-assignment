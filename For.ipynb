{
 "cells": [
  {
   "cell_type": "code",
   "execution_count": 4,
   "id": "0f4ed5f9-b6ec-4f4f-89ea-1b5fa812551f",
   "metadata": {},
   "outputs": [
    {
     "data": {
      "text/plain": [
       "[65, 987.12, 'Arman', 'rahul', '987', 87, 98, 99.99, 98.76]"
      ]
     },
     "execution_count": 4,
     "metadata": {},
     "output_type": "execute_result"
    }
   ],
   "source": [
    "l=[65,987.12,'Arman','rahul','987',87,98,99.99,98.76]\n",
    "l"
   ]
  },
  {
   "cell_type": "code",
   "execution_count": 9,
   "id": "d4a93d81-ef8c-426e-9867-596599f422ac",
   "metadata": {},
   "outputs": [
    {
     "name": "stdout",
     "output_type": "stream",
     "text": [
      "[65, 87, 98]\n",
      "['Arman', 'rahul', '987']\n",
      "[987.12, 99.99, 98.76]\n"
     ]
    }
   ],
   "source": [
    "l1_num=[]\n",
    "l2_str=[]\n",
    "l3_flt=[]\n",
    "for i in l:\n",
    "    if type(i)==int:\n",
    "        l1_num.append(i)\n",
    "    elif type(i)==float:\n",
    "        l3_flt.append(i)\n",
    "    else:\n",
    "        l2_str.append(i)\n",
    "print(l1_num)\n",
    "print(l2_str)\n",
    "print(l3_flt)\n",
    "        "
   ]
  }
 ],
 "metadata": {
  "kernelspec": {
   "display_name": "Python 3 (ipykernel)",
   "language": "python",
   "name": "python3"
  },
  "language_info": {
   "codemirror_mode": {
    "name": "ipython",
    "version": 3
   },
   "file_extension": ".py",
   "mimetype": "text/x-python",
   "name": "python",
   "nbconvert_exporter": "python",
   "pygments_lexer": "ipython3",
   "version": "3.10.8"
  }
 },
 "nbformat": 4,
 "nbformat_minor": 5
}
