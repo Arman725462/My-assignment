{
 "cells": [
  {
   "cell_type": "code",
   "execution_count": 14,
   "id": "e77f9661-219c-4af5-854f-191f74681d69",
   "metadata": {},
   "outputs": [
    {
     "name": "stdin",
     "output_type": "stream",
     "text": [
      "Enter the number:  10\n"
     ]
    },
    {
     "name": "stdout",
     "output_type": "stream",
     "text": [
      "total sum is 55\n"
     ]
    }
   ],
   "source": [
    "n=input(\"Enter the number: \")\n",
    "i=1\n",
    "sum=0\n",
    "while i<=10:\n",
    "    sum=sum+i\n",
    "    i=i+1\n",
    "print(\"total sum is\",sum)\n"
   ]
  },
  {
   "cell_type": "code",
   "execution_count": 11,
   "id": "bf1006cc-1562-4247-a752-50ac39145577",
   "metadata": {},
   "outputs": [
    {
     "name": "stdin",
     "output_type": "stream",
     "text": [
      "enter a number:  10\n"
     ]
    },
    {
     "name": "stdout",
     "output_type": "stream",
     "text": [
      "The sum is:  55\n"
     ]
    }
   ],
   "source": [
    "n = int(input(\"enter a number: \"))\n",
    "i = 1\n",
    "sum = 0\n",
    "while (i <= n):\n",
    "    sum = sum + i\n",
    "    i = i + 1\n",
    "print(\"The sum is: \", sum)"
   ]
  },
  {
   "cell_type": "code",
   "execution_count": null,
   "id": "b67b18e5-4316-401d-918c-4190d81bef6f",
   "metadata": {},
   "outputs": [],
   "source": []
  },
  {
   "cell_type": "code",
   "execution_count": 45,
   "id": "d2414559-aa93-44df-8466-2341669fdb90",
   "metadata": {},
   "outputs": [
    {
     "name": "stdin",
     "output_type": "stream",
     "text": [
      "Enter the electricity unit :  310\n"
     ]
    },
    {
     "name": "stdout",
     "output_type": "stream",
     "text": [
      "cost of electicity is : 2560\n"
     ]
    }
   ],
   "source": [
    "unit=int(input(\"Enter the electricity unit : \"))\n",
    "cost=0\n",
    "if unit <= 100:\n",
    "    cost=unit * 4.5\n",
    "    print(\"cost of electicity is :\" ,cost)\n",
    "elif unit>100 and unit<=200:\n",
    "    cost=(100*4.5)+((unit-100) * 6)\n",
    "    print(\"cost of electicity is :\" ,cost)\n",
    "elif unit>200 and unit<=300:\n",
    "    cost= (100*4.5) +((unit-100) * 6)+ (unit-200)*10\n",
    "    print(\"cost of electicity is :\" ,cost)\n",
    "else:\n",
    "    cost=(100*4.5) +((unit-100) * 6)+ ((unit-200)*10)+((unit-300)*20)\n",
    "    print(\"cost of electicity is :\" ,cost)\n"
   ]
  },
  {
   "cell_type": "code",
   "execution_count": null,
   "id": "03df96a0-c180-44f2-ab64-5346fd46d161",
   "metadata": {},
   "outputs": [],
   "source": []
  },
  {
   "cell_type": "code",
   "execution_count": 50,
   "id": "50a32b8d-4c53-4eb1-8afd-30a6571d2dfe",
   "metadata": {},
   "outputs": [
    {
     "name": "stdin",
     "output_type": "stream",
     "text": [
      "Enter the electricity unit :  310\n"
     ]
    },
    {
     "name": "stdout",
     "output_type": "stream",
     "text": [
      "cost of electicity is : 2250.0\n"
     ]
    }
   ],
   "source": [
    "unit=int(input(\"Enter the electricity unit : \"))\n",
    "cost=0\n",
    "if unit<=100:\n",
    "    cost=100*4.5\n",
    "    print(\"cost of electicity is :\" ,cost)\n",
    "elif unit>100 and unit<=200:\n",
    "    cost=(100*4.5)+(unit-100)*6\n",
    "    print(\"cost of electicity is :\" ,cost)\n",
    "elif unit>200 and unit<=300:\n",
    "    cost=(100*4.5)+(100*6)+((unit-200)*10)\n",
    "else:\n",
    "    cost=(100*4.5)+(100*6)+(100*10)+((unit-300)*20)\n",
    "    print(\"cost of electicity is :\" ,cost)\n",
    "    \n",
    "    "
   ]
  },
  {
   "cell_type": "code",
   "execution_count": 53,
   "id": "898b922f-0e54-4a52-a76b-e0d33e06b97f",
   "metadata": {},
   "outputs": [
    {
     "name": "stdout",
     "output_type": "stream",
     "text": [
      "1\n",
      "2\n",
      "3\n",
      "4\n",
      "5\n",
      "6\n"
     ]
    }
   ],
   "source": [
    "i = 1\n",
    "while i <=6:=\n",
    "  print(i)\n",
    "  i += 1"
   ]
  },
  {
   "cell_type": "code",
   "execution_count": 11,
   "id": "0971647b-7b0e-44dd-a0a1-ca206f92a074",
   "metadata": {},
   "outputs": [],
   "source": []
  },
  {
   "cell_type": "code",
   "execution_count": 12,
   "id": "94189b4f-3a87-42ce-96ae-b31c0de125f0",
   "metadata": {},
   "outputs": [
    {
     "name": "stdout",
     "output_type": "stream",
     "text": [
      "[1, 2, 3, 4, 5, 6, 7, 8, 9, 10, 11, 12, 13, 14, 15, 16, 17, 18, 19, 20, 21, 22, 23, 24, 25, 26, 27, 28, 29, 30, 31, 32, 33, 34, 35, 36, 37, 38, 39, 40, 41, 42, 43, 44, 45, 46, 47, 48, 49, 50, 51, 52, 53, 54, 55, 56, 57, 58, 59, 60, 61, 62, 63, 64, 65, 66, 67, 68, 69, 70, 71, 72, 73, 74, 75, 76, 77, 78, 79, 80, 81, 82, 83, 84, 85, 86, 87, 88, 89, 90, 91, 92, 93, 94, 95, 96, 97, 98, 99]\n"
     ]
    }
   ],
   "source": [
    "print(L)"
   ]
  },
  {
   "cell_type": "code",
   "execution_count": 25,
   "id": "b985c0b9-f897-43d8-bd94-585125006885",
   "metadata": {},
   "outputs": [
    {
     "name": "stdout",
     "output_type": "stream",
     "text": [
      "[1, 2, 3, 4, 5, 6, 7, 8, 9, 10, 11, 12, 13, 14, 15, 16, 17, 18, 19, 20, 21, 22, 23, 24, 25, 26, 27, 28, 29, 30, 31, 32, 33, 34, 35, 36, 37, 38, 39, 40, 41, 42, 43, 44, 45, 46, 47, 48, 49, 50, 51, 52, 53, 54, 55, 56, 57, 58, 59, 60, 61, 62, 63, 64, 65, 66, 67, 68, 69, 70, 71, 72, 73, 74, 75, 76, 77, 78, 79, 80, 81, 82, 83, 84, 85, 86, 87, 88, 89, 90, 91, 92, 93, 94, 95, 96, 97, 98, 99]\n",
      "cube is 1\n",
      "cube is 8\n",
      "cube is 27\n",
      "cube is 64\n",
      "cube is 125\n",
      "cube is 216\n",
      "cube is 343\n",
      "cube is 512\n",
      "cube is 729\n",
      "cube is 1000\n",
      "cube is 1331\n",
      "cube is 1728\n",
      "cube is 2197\n",
      "cube is 2744\n",
      "cube is 3375\n",
      "cube is 4096\n",
      "cube is 4913\n",
      "cube is 5832\n",
      "cube is 6859\n",
      "cube is 8000\n",
      "cube is 9261\n",
      "cube is 10648\n",
      "cube is 12167\n",
      "cube is 13824\n",
      "cube is 15625\n",
      "cube is 17576\n",
      "cube is 19683\n",
      "cube is 21952\n",
      "cube is 24389\n",
      "cube is 27000\n",
      "cube is 29791\n",
      "cube is 32768\n",
      "cube is 35937\n",
      "cube is 39304\n",
      "cube is 42875\n",
      "cube is 46656\n",
      "cube is 50653\n",
      "cube is 54872\n",
      "cube is 59319\n",
      "cube is 64000\n",
      "cube is 68921\n",
      "cube is 74088\n",
      "cube is 79507\n",
      "cube is 85184\n",
      "cube is 91125\n",
      "cube is 97336\n",
      "cube is 103823\n",
      "cube is 110592\n",
      "cube is 117649\n",
      "cube is 125000\n",
      "cube is 132651\n",
      "cube is 140608\n",
      "cube is 148877\n",
      "cube is 157464\n",
      "cube is 166375\n",
      "cube is 175616\n",
      "cube is 185193\n",
      "cube is 195112\n",
      "cube is 205379\n",
      "cube is 216000\n",
      "cube is 226981\n",
      "cube is 238328\n",
      "cube is 250047\n",
      "cube is 262144\n",
      "cube is 274625\n",
      "cube is 287496\n",
      "cube is 300763\n",
      "cube is 314432\n",
      "cube is 328509\n",
      "cube is 343000\n",
      "cube is 357911\n",
      "cube is 373248\n",
      "cube is 389017\n",
      "cube is 405224\n",
      "cube is 421875\n",
      "cube is 438976\n",
      "cube is 456533\n",
      "cube is 474552\n",
      "cube is 493039\n",
      "cube is 512000\n",
      "cube is 531441\n",
      "cube is 551368\n",
      "cube is 571787\n",
      "cube is 592704\n",
      "cube is 614125\n",
      "cube is 636056\n",
      "cube is 658503\n",
      "cube is 681472\n",
      "cube is 704969\n",
      "cube is 729000\n",
      "cube is 753571\n",
      "cube is 778688\n",
      "cube is 804357\n",
      "cube is 830584\n",
      "cube is 857375\n",
      "cube is 884736\n",
      "cube is 912673\n",
      "cube is 941192\n",
      "cube is 970299\n",
      "[8, 64, 125, 216, 512, 1000, 1728, 2744, 3375, 4096, 5832, 8000, 10648, 13824, 15625, 17576, 21952, 27000, 32768, 39304, 42875, 46656, 54872, 64000, 74088, 85184, 91125, 97336, 110592, 125000, 140608, 157464, 166375, 175616, 195112, 216000, 238328, 262144, 274625, 287496, 314432, 343000, 373248, 405224, 421875, 438976, 474552, 512000, 551368, 592704, 614125, 636056, 681472, 729000, 778688, 830584, 857375, 884736, 941192]\n"
     ]
    }
   ],
   "source": [
    "L=list(range(1,100))\n",
    "c=[]\n",
    "print(L)\n",
    "for i in L:\n",
    "    p=i*i*i\n",
    "    print(\"cube is\",p)\n",
    "    if p%4==0 or p%5==0:\n",
    "        c.append(p)\n",
    "print(c)"
   ]
  },
  {
   "cell_type": "code",
   "execution_count": 47,
   "id": "eaa56da2-ddf8-4dec-8bc0-0fb287246c40",
   "metadata": {},
   "outputs": [
    {
     "name": "stdout",
     "output_type": "stream",
     "text": [
      "Number of vowels in the given string is:  12\n"
     ]
    }
   ],
   "source": [
    "string = \"i want to become a data scientist\"\n",
    "count=0\n",
    "i=0\n",
    "for i in range(len(string)):\n",
    "    if (\n",
    "        (string[i] == \"a\")\n",
    "        or (string[i] == \"e\")\n",
    "        or (string[i] == \"i\")\n",
    "        or (string[i] == \"o\")\n",
    "        or (string[i] == \"u\")\n",
    "    ):\n",
    "        count=count+1\n",
    "print(\"Number of vowels in the given string is: \", count)"
   ]
  },
  {
   "cell_type": "code",
   "execution_count": 45,
   "id": "5888cae3-9192-418c-98f6-1760add6dabc",
   "metadata": {},
   "outputs": [
    {
     "name": "stdout",
     "output_type": "stream",
     "text": [
      "Number of vowels in the given string is:  11\n"
     ]
    }
   ],
   "source": [
    "# Program: Count number of vowels in a String in Python\n",
    "\n",
    "example = \"I want to become a data scientist\"\n",
    "\n",
    "# initializing count variable\n",
    "count = 0\n",
    "\n",
    "# declaring a variable for index\n",
    "i = 0\n",
    "\n",
    "# iterate over the given string (example)\n",
    "# len(example) -> gives the length of the string in Python\n",
    "\n",
    "for i in range(len(example)):\n",
    "    if (\n",
    "        (example[i] == \"a\")\n",
    "        or (example[i] == \"e\")\n",
    "        or (example[i] == \"i\")\n",
    "        or (example[i] == \"o\")\n",
    "        or (example[i] == \"u\")\n",
    "    ):\n",
    "        count += 1\n",
    "\n",
    "print(\"Number of vowels in the given string is: \", count)"
   ]
  }
 ],
 "metadata": {
  "kernelspec": {
   "display_name": "Python 3 (ipykernel)",
   "language": "python",
   "name": "python3"
  },
  "language_info": {
   "codemirror_mode": {
    "name": "ipython",
    "version": 3
   },
   "file_extension": ".py",
   "mimetype": "text/x-python",
   "name": "python",
   "nbconvert_exporter": "python",
   "pygments_lexer": "ipython3",
   "version": "3.10.8"
  }
 },
 "nbformat": 4,
 "nbformat_minor": 5
}
